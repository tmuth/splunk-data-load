{
 "cells": [
  {
   "cell_type": "code",
   "execution_count": 1,
   "metadata": {},
   "outputs": [],
   "source": [
    "import random,itertools,time,os\n",
    "from random import choice\n",
    "from string import digits, ascii_uppercase\n",
    "from datetime import datetime\n",
    "metric_multiplyer = 1\n",
    "time_multiplier=100\n",
    "serial_length = 12\n",
    "serial_numbers_arr_length = 100\n",
    "generate_how_many = 3397800\n",
    "max_file_size_mb = 1\n",
    "start_days_ago=60\n",
    "out_file=\"/Users/tmuth/Downloads/metric-sample/metrics-1mb.txt\"\n",
    "\n",
    "\n",
    "metric_names = {\"file_system_drive_read_errors\",\n",
    "               #\"file_system_drive_write_errors\",\n",
    "               #\"file_system_drive_checksum_errors\",\n",
    "               \"drive_spin_rpm\",\n",
    "               #\"drive_temp_outer_track\",\n",
    "               #\"drive_temp_inner_track\",\n",
    "               #\"platter_vibration_in_hertz\",\n",
    "               \"minimum_seek_time\",\n",
    "               \"maximum_seek_time\",\n",
    "               \"standard_deviation_seek_time\"}\n",
    "\n",
    "metric_nums = list(range(metric_multiplyer))\n"
   ]
  },
  {
   "cell_type": "code",
   "execution_count": 2,
   "metadata": {},
   "outputs": [],
   "source": [
    "metric_names_generated = []\n",
    "for i in itertools.product(metric_names, metric_nums):\n",
    "  metric_names_generated.append(\"_\".join(map(str, i)))\n",
    "#print(metric_names_generated)\n",
    "#print(len(metric_names_generated))"
   ]
  },
  {
   "cell_type": "code",
   "execution_count": 3,
   "metadata": {},
   "outputs": [],
   "source": [
    "chars = digits + ascii_uppercase\n",
    "serial_numbers = [\"\".join([choice(chars) for i in range(serial_length)]) for j in range(serial_numbers_arr_length)]\n",
    "#print(serial_numbers)"
   ]
  },
  {
   "cell_type": "code",
   "execution_count": 4,
   "metadata": {},
   "outputs": [
    {
     "name": "stdout",
     "output_type": "stream",
     "text": [
      "1626013090\n",
      "2021-07-11 10:18:10\n"
     ]
    }
   ],
   "source": [
    "ts = round(time.time())\n",
    "ts=ts-(86400*start_days_ago)\n",
    "start_date = datetime.fromtimestamp(ts).strftime(\"%Y-%m-%d %I:%M:%S\")\n",
    "start_ts=ts\n",
    "#ts=ts-round((generate_how_many*len(metric_names_generated)))\n",
    "#ts=ts-generate_how_many\n",
    "\n",
    "print(ts)\n",
    "print(start_date)"
   ]
  },
  {
   "cell_type": "code",
   "execution_count": 5,
   "metadata": {},
   "outputs": [
    {
     "name": "stdout",
     "output_type": "stream",
     "text": [
      "Started...\n",
      "1626738040.0\n",
      "Done!\n",
      "14500 lines, 1.0 MB\n",
      "Date Range: 2021-07-11 10:18:10 to 2021-07-19 07:40:40 \n",
      "Days: 8.390625 \n"
     ]
    }
   ],
   "source": [
    "text_file = open(out_file, \"w\")\n",
    "write_counter=0\n",
    "x_loop_must_break = False\n",
    "print(\"Started...\")\n",
    "for x in range(1, generate_how_many+1):\n",
    "    \n",
    "    #l_mname=random.choice(list(metric_names_generated))\n",
    "    l_serial=random.choice(list(serial_numbers))\n",
    "    for l_mname in metric_names_generated: \n",
    "        \n",
    "        l_ts = (ts+write_counter*time_multiplier)*1000\n",
    "        #l_ts = (ts+write_counter)*1000\n",
    "        l_mvalue=random.randrange(1,100)\n",
    "        l_idx=random.randrange(1,10)\n",
    "        l_slot=random.randrange(1,300)\n",
    "        #str = f\"{l_mname} {{filesystem_index=\\\"{l_idx}\\\",slot_number=\\\"{l_slot}\\\",drive_serial=\\\"{l_serial}\\\"}} {l_mvalue} {l_ts}\\r\\n\"\n",
    "        str = f\"{l_ts} drive_serial=\\\"{l_serial}\\\" {l_mname}={l_mvalue}\\n\"\n",
    "        #str = f\"{l_mname} {l_mvalue}\\n\"\n",
    "\n",
    "        #print(str)\n",
    "        text_file.write(str)\n",
    "        write_counter = write_counter + 1\n",
    "        #print(write_counter)\n",
    "        if (write_counter % 100==0):\n",
    "            text_file.flush()\n",
    "            os.fsync(text_file.fileno())\n",
    "            file_size = round(os.path.getsize(out_file)/1024/1024,1)\n",
    "            #print(file_size)\n",
    "            if(file_size >= max_file_size_mb):\n",
    "                x_loop_must_break = True\n",
    "                break\n",
    "    if x_loop_must_break: break\n",
    "\n",
    "text_file.close()\n",
    "print(l_ts/1000)\n",
    "end_date = datetime.fromtimestamp(l_ts/1000).strftime(\"%Y-%m-%d %I:%M:%S\")\n",
    "\n",
    "print(\"Done!\")\n",
    "print(f\"{write_counter} lines, {file_size} MB\")\n",
    "print(f\"Date Range: {start_date} to {end_date} \")\n",
    "print(f\"Days: {((l_ts/1000)-start_ts)/86400} \")"
   ]
  },
  {
   "cell_type": "code",
   "execution_count": null,
   "metadata": {},
   "outputs": [],
   "source": []
  }
 ],
 "metadata": {
  "kernelspec": {
   "display_name": "Python 3",
   "language": "python",
   "name": "python3"
  },
  "language_info": {
   "codemirror_mode": {
    "name": "ipython",
    "version": 3
   },
   "file_extension": ".py",
   "mimetype": "text/x-python",
   "name": "python",
   "nbconvert_exporter": "python",
   "pygments_lexer": "ipython3",
   "version": "3.8.5"
  }
 },
 "nbformat": 4,
 "nbformat_minor": 4
}
